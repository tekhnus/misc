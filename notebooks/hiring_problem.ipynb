{
 "cells": [
  {
   "cell_type": "code",
   "execution_count": 353,
   "id": "62436406-2b9e-41dd-8f1c-d3c30a0bb2fa",
   "metadata": {},
   "outputs": [],
   "source": [
    "import math\n",
    "import random\n",
    "import statistics\n",
    "import scipy.stats"
   ]
  },
  {
   "cell_type": "code",
   "execution_count": 305,
   "id": "e384c0a5-d1db-4033-9cc9-c2ed6bdfdf93",
   "metadata": {},
   "outputs": [],
   "source": [
    "DAYS = 100\n",
    "HIRE = 1\n",
    "WORKDAYS = 3 * DAYS\n",
    "DIST = scipy.stats.gamma(a=1)"
   ]
  },
  {
   "cell_type": "code",
   "execution_count": 386,
   "id": "1df0b132-29db-41c0-b157-569e87230f07",
   "metadata": {},
   "outputs": [],
   "source": [
    "def decide(day, candidate, _):\n",
    "    if day + 1 == DAYS:\n",
    "        return True\n",
    "    days = DAYS - day\n",
    "    workdays = days * candidate\n",
    "    return workdays >= WORKDAYS\n",
    "\n",
    "def decide2a(day, candidate, _):\n",
    "    if day + 1 == DAYS:\n",
    "        return True\n",
    "    days = DAYS - day\n",
    "    workdays = days * candidate\n",
    "    p_next_will_be_worse = 1.0\n",
    "    for next_day in range(day + 1, DAYS):\n",
    "        rem_days = DAYS - next_day\n",
    "        p_next_will_be_worse *= DIST.cdf(workdays / rem_days)\n",
    "    return p_next_will_be_worse > 0.5\n",
    "\n",
    "def decide2b(day, candidate, _):\n",
    "    if day + 1 == DAYS:\n",
    "        return True\n",
    "    days = DAYS - day\n",
    "    workdays = days * candidate\n",
    "    p_next_will_be_worse = 1.0\n",
    "    for next_day in range(day + 1, DAYS):\n",
    "        rem_days = DAYS - next_day\n",
    "        p_next_will_be_worse *= DIST.cdf(workdays / rem_days)\n",
    "    return p_next_will_be_worse > 0.1\n",
    "\n",
    "def decide2c(day, candidate, _):\n",
    "    if day + 1 == DAYS:\n",
    "        return True\n",
    "    days = DAYS - day\n",
    "    workdays = days * candidate\n",
    "    p_next_will_be_worse = 1.0\n",
    "    for next_day in range(day + 1, DAYS):\n",
    "        rem_days = DAYS - next_day\n",
    "        p_next_will_be_worse *= DIST.cdf(workdays / rem_days)\n",
    "    return p_next_will_be_worse > 0.01\n",
    "\n",
    "def decide3(day, candidate, _):\n",
    "    if day + 1 == DAYS:\n",
    "        return True\n",
    "    return candidate >= DIST.mean()\n",
    "\n",
    "def decide4(day, candidate, past_candidates):\n",
    "    if day + 1 == DAYS:\n",
    "        return True\n",
    "    if day < DAYS / math.e:\n",
    "        return False\n",
    "    return candidate >= max(past_candidates)\n",
    "\n",
    "ALGORITHMS = [decide, decide2a, decide2b, decide2c, decide3, decide4]"
   ]
  },
  {
   "cell_type": "code",
   "execution_count": 387,
   "id": "7e5ec440-967d-4d64-8027-460b45aa3d85",
   "metadata": {},
   "outputs": [],
   "source": [
    "def simulate(algorithm):\n",
    "    candidates = list(DIST.rvs(size=DAYS))\n",
    "    hire_days = []\n",
    "    workdays = 0\n",
    "    for day, candidate in enumerate(candidates):\n",
    "        d = algorithm(day, candidate, candidates[:day])\n",
    "        if d:\n",
    "            days = DAYS - day\n",
    "            workdays += days * candidate\n",
    "            hire_days.append(day)\n",
    "            if len(hire_days) == HIRE:\n",
    "                break\n",
    "    return workdays, hire_days"
   ]
  },
  {
   "cell_type": "code",
   "execution_count": 389,
   "id": "13d67c81-05c6-4810-935b-42ae488aa0e8",
   "metadata": {},
   "outputs": [
    {
     "name": "stdout",
     "output_type": "stream",
     "text": [
      "alg.__name__='decide' success_rate=68.600000% median=325.87313503150233 best=1069.7996931627836 worst=0.0021864579039915584 typical_first_hire_day=17.0\n",
      "alg.__name__='decide2a' success_rate=59.600000% median=323.4917111460014 best=1033.887655362897 worst=10.0149141510897 typical_first_hire_day=17.0\n",
      "alg.__name__='decide2b' success_rate=38.100000% median=276.44276716080765 best=859.2593368458736 worst=105.41612474096588 typical_first_hire_day=7.0\n",
      "alg.__name__='decide2c' success_rate=25.200000% median=236.14194209088225 best=957.1551839752563 worst=131.18500167871753 typical_first_hire_day=4.0\n",
      "alg.__name__='decide3' success_rate=13.100000% median=163.56902362674833 best=678.7502536990967 worst=92.22246207966637 typical_first_hire_day=1.0\n",
      "alg.__name__='decide4' success_rate=6.000000% median=119.52407557112554 best=505.9621128024317 worst=0.0037996832457468247 typical_first_hire_day=72.0\n"
     ]
    }
   ],
   "source": [
    "SIMULATIONS = 1000\n",
    "\n",
    "results = []\n",
    "for algorithm in ALGORITHMS:\n",
    "    simulations = []\n",
    "    for _ in range(SIMULATIONS):\n",
    "        simulations.append(simulate(algorithm))\n",
    "    results.append((algorithm, simulations))\n",
    "\n",
    "for alg, simulations in results:\n",
    "    success_rate = sum(1 for workdays, _ in simulations if workdays >= WORKDAYS) / SIMULATIONS\n",
    "    median = statistics.median(workdays for workdays, _ in simulations)\n",
    "    worst = min(workdays for workdays, _ in simulations)\n",
    "    best = max(workdays for workdays, _ in simulations)\n",
    "    typical_first_hire_day = statistics.median(hire_days[0] for _, hire_days in simulations)\n",
    "    print(f\"{alg.__name__=} {success_rate=:%} {median=} {best=} {worst=} {typical_first_hire_day=}\")"
   ]
  }
 ],
 "metadata": {
  "kernelspec": {
   "display_name": "Python 3 (ipykernel)",
   "language": "python",
   "name": "python3"
  },
  "language_info": {
   "codemirror_mode": {
    "name": "ipython",
    "version": 3
   },
   "file_extension": ".py",
   "mimetype": "text/x-python",
   "name": "python",
   "nbconvert_exporter": "python",
   "pygments_lexer": "ipython3",
   "version": "3.11.4"
  }
 },
 "nbformat": 4,
 "nbformat_minor": 5
}
