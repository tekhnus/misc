{
 "cells": [
  {
   "cell_type": "code",
   "execution_count": 1,
   "id": "62436406-2b9e-41dd-8f1c-d3c30a0bb2fa",
   "metadata": {},
   "outputs": [],
   "source": [
    "import math\n",
    "import random\n",
    "import statistics\n",
    "import scipy.stats"
   ]
  },
  {
   "cell_type": "markdown",
   "id": "5ffe3564-74b6-4d36-bd3f-c82986d948d2",
   "metadata": {},
   "source": [
    "We have 20 days. Each day we consider a candidate and can hire him or not.\n",
    "We can hire only a single worked.\n",
    "Each candidate was efficiency measured in story points per day.\n",
    "The distribution of candidate efficiency is gamma distribution with a=2.\n",
    "We'll compare several algorithms for hiring."
   ]
  },
  {
   "cell_type": "code",
   "execution_count": 2,
   "id": "e384c0a5-d1db-4033-9cc9-c2ed6bdfdf93",
   "metadata": {},
   "outputs": [],
   "source": [
    "DAYS = 20\n",
    "DIST = scipy.stats.gamma(a=2)"
   ]
  },
  {
   "cell_type": "code",
   "execution_count": 3,
   "id": "43ea955f-aafd-4fac-b250-6cdfd5b00cb2",
   "metadata": {
    "jupyter": {
     "source_hidden": true
    }
   },
   "outputs": [],
   "source": [
    "def probability_that_candidate_is_the_best(day, candidate_eff):\n",
    "    remaining_days = DAYS - day\n",
    "    points = remaining_days * candidate_eff\n",
    "    prob = 1.0\n",
    "    for _ in range(day + 1, DAYS):\n",
    "        remaining_days -= 1\n",
    "        prob *= DIST.cdf(points / remaining_days)\n",
    "    return prob"
   ]
  },
  {
   "cell_type": "code",
   "execution_count": 4,
   "id": "1df0b132-29db-41c0-b157-569e87230f07",
   "metadata": {},
   "outputs": [],
   "source": [
    "def can_do_70_points(day, candidate_eff, _):\n",
    "    \"\"\"Hire a candidate who can do 70 story points in remaining time.\"\"\"\n",
    "    if day + 1 == DAYS:\n",
    "        return True\n",
    "    remaining_days = DAYS - day\n",
    "    points = remaining_days * candidate_eff\n",
    "    return points >= 70\n",
    "\n",
    "def can_do_60_points(day, candidate_eff, _):\n",
    "    \"\"\"Hire a candidate who can do 60 story points in remaining time.\"\"\"\n",
    "    if day + 1 == DAYS:\n",
    "        return True\n",
    "    remaining_days = DAYS - day\n",
    "    points = remaining_days * candidate_eff\n",
    "    return points >= 60\n",
    "\n",
    "def can_do_50_points(day, candidate_eff, _):\n",
    "    \"\"\"Hire a candidate who can do 50 story points in remaining time.\"\"\"\n",
    "    if day + 1 == DAYS:\n",
    "        return True\n",
    "    remaining_days = DAYS - day\n",
    "    points = remaining_days * candidate_eff\n",
    "    return points >= 50\n",
    "\n",
    "def can_do_40_points(day, candidate_eff, _):\n",
    "    \"\"\"Hire a candidate who can do 40 story points in remaining time.\"\"\"\n",
    "    if day + 1 == DAYS:\n",
    "        return True\n",
    "    remaining_days = DAYS - day\n",
    "    points = remaining_days * candidate_eff\n",
    "    return points >= 40\n",
    "\n",
    "def is_best_with_probability_90(day, candidate_eff, _):\n",
    "    \"\"\"Hire a candidate who will do more points than any future candidate with probability 90%.\"\"\"\n",
    "    if day + 1 == DAYS:\n",
    "        return True\n",
    "    return probability_that_candidate_is_the_best(day, candidate_eff) > 0.9\n",
    "\n",
    "def is_best_with_probability_50(day, candidate_eff, _):\n",
    "    \"\"\"Hire a candidate who will do more points than any future candidate with probability 50%.\"\"\"\n",
    "    if day + 1 == DAYS:\n",
    "        return True\n",
    "    return probability_that_candidate_is_the_best(day, candidate_eff) > 0.5\n",
    "\n",
    "def is_best_with_probability_10(day, candidate_eff, _):\n",
    "    \"\"\"Hire a candidate who will do more points than any future candidate with probability 10%.\"\"\"\n",
    "    if day + 1 == DAYS:\n",
    "        return True\n",
    "    return probability_that_candidate_is_the_best(day, candidate_eff) > 0.1\n",
    "\n",
    "def is_best_with_probability_01(day, candidate_eff, _):\n",
    "    \"\"\"Hire a candidate who will do more points than any future candidate with probability 1%.\"\"\"\n",
    "    if day + 1 == DAYS:\n",
    "        return True\n",
    "    return probability_that_candidate_is_the_best(day, candidate_eff) > 0.01\n",
    "\n",
    "def is_above_average(day, candidate, _):\n",
    "    \"\"\"Hire the first candidate who is above the average.\"\"\"\n",
    "    if day + 1 == DAYS:\n",
    "        return True\n",
    "    return candidate >= DIST.mean()\n",
    "\n",
    "def is_better_than_first_37_percent(day, candidate, past_candidates):\n",
    "    \"\"\"Skip the first 37 percent of candidates and hire the first one who is better than all of them.\"\"\"\n",
    "    if day + 1 == DAYS:\n",
    "        return True\n",
    "    if day < DAYS / math.e:\n",
    "        return False\n",
    "    return candidate >= max(past_candidates)\n",
    "\n",
    "ALGORITHMS = [can_do_70_points, can_do_60_points, can_do_50_points, can_do_40_points, is_best_with_probability_90, is_best_with_probability_50, is_best_with_probability_10, is_best_with_probability_01, is_above_average, is_better_than_first_37_percent]"
   ]
  },
  {
   "cell_type": "code",
   "execution_count": 5,
   "id": "7e5ec440-967d-4d64-8027-460b45aa3d85",
   "metadata": {},
   "outputs": [],
   "source": [
    "def simulate(algorithm):\n",
    "    candidates = list(DIST.rvs(size=DAYS))\n",
    "    hire_days = []\n",
    "    workdays = 0\n",
    "    for day, candidate in enumerate(candidates):\n",
    "        d = algorithm(day, candidate, candidates[:day])\n",
    "        if d:\n",
    "            days = DAYS - day\n",
    "            workdays += days * candidate\n",
    "            hire_days.append(day)\n",
    "            if len(hire_days) == 1:\n",
    "                break\n",
    "    return workdays, hire_days, candidates"
   ]
  },
  {
   "cell_type": "code",
   "execution_count": 6,
   "id": "13d67c81-05c6-4810-935b-42ae488aa0e8",
   "metadata": {},
   "outputs": [
    {
     "name": "stdout",
     "output_type": "stream",
     "text": [
      "name               achieved_60_points median    avg  best worst typical_first_hire_day found_most_efficient found_best\n",
      "can_do_70_points                  50%   70.0   47.3   214  0.09                     10                  31%        44%\n",
      "can_do_60_points                  70%   66.8   58.2   200  0.05                      3                  32%        54%\n",
      "can_do_50_points                  57%   62.6   63.4   218  0.10                      2                  28%        59%\n",
      "can_do_40_points                  42%   55.7   60.8   222  0.24                      1                  16%        47%\n",
      "is_best_with_probability_90       41%   45.3   52.7   196  0.08                     11                  59%        38%\n",
      "is_best_with_probability_50       61%   66.3   67.8   178  4.57                      4                  32%        62%\n",
      "is_best_with_probability_10       45%   57.1   62.9   170 18.80                      1                  15%        50%\n",
      "is_best_with_probability_01       34%   49.7   56.8   189 20.49                      1                   9%        34%\n",
      "is_above_average                  43%   54.9   62.0   252 16.67                      1                  12%        47%\n",
      "is_better_than_first_37_percent    8%   21.4   24.3   150  0.07                     16                  41%         9%\n"
     ]
    }
   ],
   "source": [
    "SIMULATIONS = 1000\n",
    "\n",
    "results = []\n",
    "for algorithm in ALGORITHMS:\n",
    "    simulations = []\n",
    "    for _ in range(SIMULATIONS):\n",
    "        simulations.append(simulate(algorithm))\n",
    "    results.append((algorithm, simulations))\n",
    "\n",
    "print(\"name               achieved_60_points median    avg  best worst typical_first_hire_day found_most_efficient found_best\")\n",
    "for alg, simulations in results:\n",
    "    success_rate = sum(1 for workdays, _, _ in simulations if workdays >= 60) / SIMULATIONS\n",
    "    avg = statistics.mean(workdays for workdays, _, _ in simulations)\n",
    "    median = statistics.median(workdays for workdays, _, _ in simulations)\n",
    "    worst = min(workdays for workdays, _, _ in simulations)\n",
    "    best = max(workdays for workdays, _, _ in simulations)\n",
    "    typical_first_hire_day = statistics.median(hire_days[0] for _, hire_days, _ in simulations)\n",
    "    found_efficient_rate = sum(1 for _, hire_days, candidates in simulations if candidates[hire_days[0]] == max(candidates)) / SIMULATIONS\n",
    "    found_best_rate = sum(1 for _, hire_days, candidates in simulations if candidates[hire_days[0]] * (DAYS - hire_days[0]) == max(candidate * (DAYS - day) for day, candidate in enumerate(candidates))) / SIMULATIONS\n",
    "    print(f\"{alg.__name__:32} {success_rate:4.0%} {median:6.1f} {avg:6.1f} {best:5.0f} {worst:5.2f} {typical_first_hire_day:22.0f} {found_efficient_rate:20.0%} {found_best_rate:10.0%}\")"
   ]
  },
  {
   "cell_type": "markdown",
   "id": "2169fb33-708f-4249-85c8-760b39f6332c",
   "metadata": {},
   "source": [
    "We're comparing the following statistics across 1000 simulations:\n",
    "- What's the probability that we do at least 60 story points?\n",
    "- What's the median, best and worst story points done?\n",
    "- What's the probability that we hire the most efficient candidate?\n",
    "- What's the probability that we hire the best candidate, i.e the one who will do the most story points in remaining time?"
   ]
  },
  {
   "cell_type": "markdown",
   "id": "22841fda-0fcb-4a36-8f54-f9455bce947a",
   "metadata": {},
   "source": [
    "\n",
    "\n",
    "\n",
    "\n",
    "Possible variations of the problem:\n",
    "- single employee vs several employees\n",
    "- hire for current project (thus hire date affects the cost) vs hire for future project (thus hire date doesn't affect anything)\n",
    "- can hire only current candidate vs can hire any past candidate\n",
    "  (the combination \"hire past candidates\", \"hire for future project\" is trivial)"
   ]
  },
  {
   "cell_type": "code",
   "execution_count": null,
   "id": "6aaf355c-dda0-4750-a11b-1e4f559952c5",
   "metadata": {},
   "outputs": [],
   "source": []
  }
 ],
 "metadata": {
  "kernelspec": {
   "display_name": "Python 3 (ipykernel)",
   "language": "python",
   "name": "python3"
  },
  "language_info": {
   "codemirror_mode": {
    "name": "ipython",
    "version": 3
   },
   "file_extension": ".py",
   "mimetype": "text/x-python",
   "name": "python",
   "nbconvert_exporter": "python",
   "pygments_lexer": "ipython3",
   "version": "3.11.4"
  }
 },
 "nbformat": 4,
 "nbformat_minor": 5
}
